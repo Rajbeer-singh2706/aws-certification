{
 "cells": [
  {
   "cell_type": "code",
   "execution_count": null,
   "metadata": {},
   "outputs": [],
   "source": [
    "# https://tigeranalytics.udemy.com/course/aws-ai-practitioner-certified/learn/lecture/44879475#overview"
   ]
  },
  {
   "cell_type": "code",
   "execution_count": null,
   "metadata": {},
   "outputs": [],
   "source": [
    "# Target => AI Fundamental \n",
    "'''\n",
    "  START : 25-OCT\n",
    "  Finish: 15-NOV \n",
    "  EXAM  : \n",
    "\n",
    "  * 1 HR DAILY \n",
    "'''"
   ]
  },
  {
   "cell_type": "code",
   "execution_count": null,
   "metadata": {},
   "outputs": [],
   "source": []
  }
 ],
 "metadata": {
  "kernelspec": {
   "display_name": "upgrad_env",
   "language": "python",
   "name": "python3"
  },
  "language_info": {
   "name": "python",
   "version": "3.9.6"
  }
 },
 "nbformat": 4,
 "nbformat_minor": 2
}
